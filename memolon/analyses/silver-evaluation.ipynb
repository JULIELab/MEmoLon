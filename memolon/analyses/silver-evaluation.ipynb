{
 "cells": [
  {
   "cell_type": "markdown",
   "metadata": {},
   "source": [
    "# Silver Evaluation"
   ]
  },
  {
   "cell_type": "code",
   "execution_count": 1,
   "metadata": {},
   "outputs": [],
   "source": [
    "%matplotlib inline\n",
    "import numpy as np\n",
    "import scipy.stats as st\n",
    "import pandas as pd\n",
    "import matplotlib.pyplot as plt\n",
    "from pathlib import Path\n",
    "import copy\n",
    "\n",
    "from memolon.src import utils, constants"
   ]
  },
  {
   "cell_type": "code",
   "execution_count": 2,
   "metadata": {},
   "outputs": [
    {
     "data": {
      "text/html": [
       "<div>\n",
       "<style scoped>\n",
       "    .dataframe tbody tr th:only-of-type {\n",
       "        vertical-align: middle;\n",
       "    }\n",
       "\n",
       "    .dataframe tbody tr th {\n",
       "        vertical-align: top;\n",
       "    }\n",
       "\n",
       "    .dataframe thead th {\n",
       "        text-align: right;\n",
       "    }\n",
       "</style>\n",
       "<table border=\"1\" class=\"dataframe\">\n",
       "  <thead>\n",
       "    <tr style=\"text-align: right;\">\n",
       "      <th></th>\n",
       "      <th>fastText_fullname</th>\n",
       "      <th>google_fullname</th>\n",
       "      <th>google_iso</th>\n",
       "      <th>articles_wiki</th>\n",
       "    </tr>\n",
       "    <tr>\n",
       "      <th>iso</th>\n",
       "      <th></th>\n",
       "      <th></th>\n",
       "      <th></th>\n",
       "      <th></th>\n",
       "    </tr>\n",
       "  </thead>\n",
       "  <tbody>\n",
       "    <tr>\n",
       "      <th>af</th>\n",
       "      <td>Afrikaans</td>\n",
       "      <td>afrikaans</td>\n",
       "      <td>af</td>\n",
       "      <td>85954</td>\n",
       "    </tr>\n",
       "    <tr>\n",
       "      <th>sq</th>\n",
       "      <td>Albanian</td>\n",
       "      <td>albanian</td>\n",
       "      <td>sq</td>\n",
       "      <td>77869</td>\n",
       "    </tr>\n",
       "    <tr>\n",
       "      <th>am</th>\n",
       "      <td>Amharic</td>\n",
       "      <td>amharic</td>\n",
       "      <td>am</td>\n",
       "      <td>14849</td>\n",
       "    </tr>\n",
       "    <tr>\n",
       "      <th>ar</th>\n",
       "      <td>Arabic</td>\n",
       "      <td>arabic</td>\n",
       "      <td>ar</td>\n",
       "      <td>964345</td>\n",
       "    </tr>\n",
       "    <tr>\n",
       "      <th>hy</th>\n",
       "      <td>Armenian</td>\n",
       "      <td>armenian</td>\n",
       "      <td>hy</td>\n",
       "      <td>259237</td>\n",
       "    </tr>\n",
       "  </tbody>\n",
       "</table>\n",
       "</div>"
      ],
      "text/plain": [
       "    fastText_fullname google_fullname google_iso  articles_wiki\n",
       "iso                                                            \n",
       "af          Afrikaans       afrikaans         af          85954\n",
       "sq           Albanian        albanian         sq          77869\n",
       "am            Amharic         amharic         am          14849\n",
       "ar             Arabic          arabic         ar         964345\n",
       "hy           Armenian        armenian         hy         259237"
      ]
     },
     "execution_count": 2,
     "metadata": {},
     "output_type": "execute_result"
    }
   ],
   "source": [
    "utils.language_table.head()"
   ]
  },
  {
   "cell_type": "markdown",
   "metadata": {},
   "source": [
    "Define silver evaluation for a single language:"
   ]
  },
  {
   "cell_type": "code",
   "execution_count": 3,
   "metadata": {},
   "outputs": [],
   "source": [
    "def silver_eval_one_lang(targetMT, targetPred):\n",
    "    \n",
    "    rt = {}\n",
    "    \n",
    "    # Intersect targetMT and targetPred. Note that targetMT may have duplicated entries, but not targetPred\n",
    "    overlap = utils.list_intersection(targetMT.index, targetPred.index)\n",
    "    targetMT = targetMT.loc[overlap]\n",
    "    # targetMT.index includes duplicates, the next line makes sure, that both DataFrames have equal length\n",
    "    targetPred = targetPred.loc[targetMT.index] \n",
    "    \n",
    "    for emo in constants.emotions:\n",
    "        rt[emo] = st.pearsonr(targetMT[emo], targetPred[emo])[0]\n",
    "        \n",
    "    return rt\n",
    "    "
   ]
  },
  {
   "cell_type": "markdown",
   "metadata": {},
   "source": [
    "Define silver evaluation for all languages:"
   ]
  },
  {
   "cell_type": "code",
   "execution_count": 4,
   "metadata": {},
   "outputs": [],
   "source": [
    "def silver_evaluation_all_langs(split, version):\n",
    "    df = pd.DataFrame(index=utils.language_table.index, columns=constants.emotions, data=0.)\n",
    "    for iso in utils.language_table.index:\n",
    "        print(iso, end='\\r')\n",
    "        rt = silver_eval_one_lang(targetMT=utils.get_TargetMT(iso=iso, split=split),\n",
    "                             targetPred=utils.get_TargetPred(iso=iso, split=split, version=version))\n",
    "        df.loc[iso] = rt\n",
    "    return df"
   ]
  },
  {
   "cell_type": "markdown",
   "metadata": {},
   "source": [
    "## Development Experiment on Multi-Task-Learning Strategy"
   ]
  },
  {
   "cell_type": "code",
   "execution_count": 5,
   "metadata": {},
   "outputs": [
    {
     "name": "stdout",
     "output_type": "stream",
     "text": [
      "grouped\n",
      "af\r"
     ]
    },
    {
     "name": "stderr",
     "output_type": "stream",
     "text": [
      "<ipython-input-5-8319f9a597f6>:7: DtypeWarning: Columns (57) have mixed types.Specify dtype option on import or set low_memory=False.\n",
      "  rt = silver_evaluation_all_langs(split='dev', version=v)\n"
     ]
    },
    {
     "name": "stdout",
     "output_type": "stream",
     "text": [
      "stl\n",
      "mtl\n",
      "vad_mtl_be5_stl\n",
      "vad_stl_be5_mtl\n",
      "yob\r"
     ]
    }
   ],
   "source": [
    "versions = ['grouped', 'stl', 'mtl', 'vad_mtl_be5_stl', 'vad_stl_be5_mtl']\n",
    "df = pd.DataFrame(index=pd.MultiIndex.from_product([versions, utils.language_table.index], names=['version', 'iso']),\n",
    "                  columns=constants.emotions, \n",
    "                  data=0.)\n",
    "for v in versions:\n",
    "    print(v)\n",
    "    rt = silver_evaluation_all_langs(split='dev', version=v)\n",
    "    for l in rt.index:\n",
    "        df.loc[(v,l)] = rt.loc[l]\n",
    "    \n",
    "df.to_csv(constants.DEV_EXPERIMENT_RESULTS)"
   ]
  },
  {
   "cell_type": "markdown",
   "metadata": {},
   "source": [
    "Loading and inspecting results:"
   ]
  },
  {
   "cell_type": "code",
   "execution_count": 6,
   "metadata": {},
   "outputs": [
    {
     "data": {
      "text/html": [
       "<div>\n",
       "<style scoped>\n",
       "    .dataframe tbody tr th:only-of-type {\n",
       "        vertical-align: middle;\n",
       "    }\n",
       "\n",
       "    .dataframe tbody tr th {\n",
       "        vertical-align: top;\n",
       "    }\n",
       "\n",
       "    .dataframe thead th {\n",
       "        text-align: right;\n",
       "    }\n",
       "</style>\n",
       "<table border=\"1\" class=\"dataframe\">\n",
       "  <thead>\n",
       "    <tr style=\"text-align: right;\">\n",
       "      <th></th>\n",
       "      <th></th>\n",
       "      <th>valence</th>\n",
       "      <th>arousal</th>\n",
       "      <th>dominance</th>\n",
       "      <th>joy</th>\n",
       "      <th>anger</th>\n",
       "      <th>sadness</th>\n",
       "      <th>fear</th>\n",
       "      <th>disgust</th>\n",
       "    </tr>\n",
       "    <tr>\n",
       "      <th>version</th>\n",
       "      <th>iso</th>\n",
       "      <th></th>\n",
       "      <th></th>\n",
       "      <th></th>\n",
       "      <th></th>\n",
       "      <th></th>\n",
       "      <th></th>\n",
       "      <th></th>\n",
       "      <th></th>\n",
       "    </tr>\n",
       "  </thead>\n",
       "  <tbody>\n",
       "    <tr>\n",
       "      <th rowspan=\"5\" valign=\"top\">grouped</th>\n",
       "      <th>af</th>\n",
       "      <td>0.609110</td>\n",
       "      <td>0.486365</td>\n",
       "      <td>0.517851</td>\n",
       "      <td>0.553323</td>\n",
       "      <td>0.584504</td>\n",
       "      <td>0.587339</td>\n",
       "      <td>0.583824</td>\n",
       "      <td>0.509445</td>\n",
       "    </tr>\n",
       "    <tr>\n",
       "      <th>sq</th>\n",
       "      <td>0.630990</td>\n",
       "      <td>0.481044</td>\n",
       "      <td>0.540608</td>\n",
       "      <td>0.564867</td>\n",
       "      <td>0.648656</td>\n",
       "      <td>0.626285</td>\n",
       "      <td>0.640006</td>\n",
       "      <td>0.555325</td>\n",
       "    </tr>\n",
       "    <tr>\n",
       "      <th>am</th>\n",
       "      <td>0.411797</td>\n",
       "      <td>0.244391</td>\n",
       "      <td>0.365238</td>\n",
       "      <td>0.350095</td>\n",
       "      <td>0.404305</td>\n",
       "      <td>0.387423</td>\n",
       "      <td>0.375810</td>\n",
       "      <td>0.310775</td>\n",
       "    </tr>\n",
       "    <tr>\n",
       "      <th>ar</th>\n",
       "      <td>0.664606</td>\n",
       "      <td>0.490296</td>\n",
       "      <td>0.559575</td>\n",
       "      <td>0.575111</td>\n",
       "      <td>0.623923</td>\n",
       "      <td>0.630843</td>\n",
       "      <td>0.614889</td>\n",
       "      <td>0.596108</td>\n",
       "    </tr>\n",
       "    <tr>\n",
       "      <th>hy</th>\n",
       "      <td>0.629570</td>\n",
       "      <td>0.516185</td>\n",
       "      <td>0.552495</td>\n",
       "      <td>0.567697</td>\n",
       "      <td>0.614802</td>\n",
       "      <td>0.586886</td>\n",
       "      <td>0.593994</td>\n",
       "      <td>0.538143</td>\n",
       "    </tr>\n",
       "    <tr>\n",
       "      <th>...</th>\n",
       "      <th>...</th>\n",
       "      <td>...</td>\n",
       "      <td>...</td>\n",
       "      <td>...</td>\n",
       "      <td>...</td>\n",
       "      <td>...</td>\n",
       "      <td>...</td>\n",
       "      <td>...</td>\n",
       "      <td>...</td>\n",
       "    </tr>\n",
       "    <tr>\n",
       "      <th rowspan=\"5\" valign=\"top\">vad_stl_be5_mtl</th>\n",
       "      <th>vi</th>\n",
       "      <td>0.537049</td>\n",
       "      <td>0.413039</td>\n",
       "      <td>0.402302</td>\n",
       "      <td>0.480325</td>\n",
       "      <td>0.555454</td>\n",
       "      <td>0.511126</td>\n",
       "      <td>0.489371</td>\n",
       "      <td>0.522426</td>\n",
       "    </tr>\n",
       "    <tr>\n",
       "      <th>cy</th>\n",
       "      <td>0.584975</td>\n",
       "      <td>0.395176</td>\n",
       "      <td>0.492637</td>\n",
       "      <td>0.553074</td>\n",
       "      <td>0.547263</td>\n",
       "      <td>0.555737</td>\n",
       "      <td>0.527687</td>\n",
       "      <td>0.529706</td>\n",
       "    </tr>\n",
       "    <tr>\n",
       "      <th>fy</th>\n",
       "      <td>0.423755</td>\n",
       "      <td>0.297674</td>\n",
       "      <td>0.357757</td>\n",
       "      <td>0.396400</td>\n",
       "      <td>0.412388</td>\n",
       "      <td>0.398888</td>\n",
       "      <td>0.426071</td>\n",
       "      <td>0.353875</td>\n",
       "    </tr>\n",
       "    <tr>\n",
       "      <th>yi</th>\n",
       "      <td>0.370938</td>\n",
       "      <td>0.241268</td>\n",
       "      <td>0.305170</td>\n",
       "      <td>0.321105</td>\n",
       "      <td>0.385725</td>\n",
       "      <td>0.380928</td>\n",
       "      <td>0.373594</td>\n",
       "      <td>0.343596</td>\n",
       "    </tr>\n",
       "    <tr>\n",
       "      <th>yo</th>\n",
       "      <td>0.188441</td>\n",
       "      <td>0.119104</td>\n",
       "      <td>0.143807</td>\n",
       "      <td>0.231082</td>\n",
       "      <td>0.161925</td>\n",
       "      <td>0.174500</td>\n",
       "      <td>0.170530</td>\n",
       "      <td>0.167653</td>\n",
       "    </tr>\n",
       "  </tbody>\n",
       "</table>\n",
       "<p>455 rows × 8 columns</p>\n",
       "</div>"
      ],
      "text/plain": [
       "                      valence   arousal  dominance       joy     anger  \\\n",
       "version         iso                                                      \n",
       "grouped         af   0.609110  0.486365   0.517851  0.553323  0.584504   \n",
       "                sq   0.630990  0.481044   0.540608  0.564867  0.648656   \n",
       "                am   0.411797  0.244391   0.365238  0.350095  0.404305   \n",
       "                ar   0.664606  0.490296   0.559575  0.575111  0.623923   \n",
       "                hy   0.629570  0.516185   0.552495  0.567697  0.614802   \n",
       "...                       ...       ...        ...       ...       ...   \n",
       "vad_stl_be5_mtl vi   0.537049  0.413039   0.402302  0.480325  0.555454   \n",
       "                cy   0.584975  0.395176   0.492637  0.553074  0.547263   \n",
       "                fy   0.423755  0.297674   0.357757  0.396400  0.412388   \n",
       "                yi   0.370938  0.241268   0.305170  0.321105  0.385725   \n",
       "                yo   0.188441  0.119104   0.143807  0.231082  0.161925   \n",
       "\n",
       "                      sadness      fear   disgust  \n",
       "version         iso                                \n",
       "grouped         af   0.587339  0.583824  0.509445  \n",
       "                sq   0.626285  0.640006  0.555325  \n",
       "                am   0.387423  0.375810  0.310775  \n",
       "                ar   0.630843  0.614889  0.596108  \n",
       "                hy   0.586886  0.593994  0.538143  \n",
       "...                       ...       ...       ...  \n",
       "vad_stl_be5_mtl vi   0.511126  0.489371  0.522426  \n",
       "                cy   0.555737  0.527687  0.529706  \n",
       "                fy   0.398888  0.426071  0.353875  \n",
       "                yi   0.380928  0.373594  0.343596  \n",
       "                yo   0.174500  0.170530  0.167653  \n",
       "\n",
       "[455 rows x 8 columns]"
      ]
     },
     "execution_count": 6,
     "metadata": {},
     "output_type": "execute_result"
    }
   ],
   "source": [
    "df = pd.read_csv(constants.DEV_EXPERIMENT_RESULTS, index_col=[0,1])\n",
    "df"
   ]
  },
  {
   "cell_type": "code",
   "execution_count": 7,
   "metadata": {},
   "outputs": [
    {
     "data": {
      "text/html": [
       "<div>\n",
       "<style scoped>\n",
       "    .dataframe tbody tr th:only-of-type {\n",
       "        vertical-align: middle;\n",
       "    }\n",
       "\n",
       "    .dataframe tbody tr th {\n",
       "        vertical-align: top;\n",
       "    }\n",
       "\n",
       "    .dataframe thead th {\n",
       "        text-align: right;\n",
       "    }\n",
       "</style>\n",
       "<table border=\"1\" class=\"dataframe\">\n",
       "  <thead>\n",
       "    <tr style=\"text-align: right;\">\n",
       "      <th></th>\n",
       "      <th>valence</th>\n",
       "      <th>arousal</th>\n",
       "      <th>dominance</th>\n",
       "      <th>joy</th>\n",
       "      <th>anger</th>\n",
       "      <th>sadness</th>\n",
       "      <th>fear</th>\n",
       "      <th>disgust</th>\n",
       "      <th>mean</th>\n",
       "      <th>mean_vad</th>\n",
       "      <th>mean_be5</th>\n",
       "    </tr>\n",
       "  </thead>\n",
       "  <tbody>\n",
       "    <tr>\n",
       "      <th>mtl</th>\n",
       "      <td>0.569105</td>\n",
       "      <td>0.415168</td>\n",
       "      <td>0.483235</td>\n",
       "      <td>0.513926</td>\n",
       "      <td>0.562440</td>\n",
       "      <td>0.543606</td>\n",
       "      <td>0.543058</td>\n",
       "      <td>0.501057</td>\n",
       "      <td>0.516449</td>\n",
       "      <td>0.489169</td>\n",
       "      <td>0.532817</td>\n",
       "    </tr>\n",
       "    <tr>\n",
       "      <th>grouped</th>\n",
       "      <td>0.568447</td>\n",
       "      <td>0.419245</td>\n",
       "      <td>0.484302</td>\n",
       "      <td>0.504258</td>\n",
       "      <td>0.546825</td>\n",
       "      <td>0.530259</td>\n",
       "      <td>0.523064</td>\n",
       "      <td>0.496731</td>\n",
       "      <td>0.509141</td>\n",
       "      <td>0.490665</td>\n",
       "      <td>0.520227</td>\n",
       "    </tr>\n",
       "    <tr>\n",
       "      <th>vad_stl_be5_mtl</th>\n",
       "      <td>0.554000</td>\n",
       "      <td>0.399028</td>\n",
       "      <td>0.459571</td>\n",
       "      <td>0.504258</td>\n",
       "      <td>0.546825</td>\n",
       "      <td>0.530259</td>\n",
       "      <td>0.523064</td>\n",
       "      <td>0.496731</td>\n",
       "      <td>0.501717</td>\n",
       "      <td>0.470866</td>\n",
       "      <td>0.520227</td>\n",
       "    </tr>\n",
       "    <tr>\n",
       "      <th>vad_mtl_be5_stl</th>\n",
       "      <td>0.568447</td>\n",
       "      <td>0.419245</td>\n",
       "      <td>0.484302</td>\n",
       "      <td>0.482626</td>\n",
       "      <td>0.534835</td>\n",
       "      <td>0.509868</td>\n",
       "      <td>0.506203</td>\n",
       "      <td>0.474741</td>\n",
       "      <td>0.497534</td>\n",
       "      <td>0.490665</td>\n",
       "      <td>0.501655</td>\n",
       "    </tr>\n",
       "    <tr>\n",
       "      <th>stl</th>\n",
       "      <td>0.554000</td>\n",
       "      <td>0.399028</td>\n",
       "      <td>0.459571</td>\n",
       "      <td>0.482626</td>\n",
       "      <td>0.534835</td>\n",
       "      <td>0.509868</td>\n",
       "      <td>0.506203</td>\n",
       "      <td>0.474741</td>\n",
       "      <td>0.490109</td>\n",
       "      <td>0.470866</td>\n",
       "      <td>0.501655</td>\n",
       "    </tr>\n",
       "  </tbody>\n",
       "</table>\n",
       "</div>"
      ],
      "text/plain": [
       "                  valence   arousal  dominance       joy     anger   sadness  \\\n",
       "mtl              0.569105  0.415168   0.483235  0.513926  0.562440  0.543606   \n",
       "grouped          0.568447  0.419245   0.484302  0.504258  0.546825  0.530259   \n",
       "vad_stl_be5_mtl  0.554000  0.399028   0.459571  0.504258  0.546825  0.530259   \n",
       "vad_mtl_be5_stl  0.568447  0.419245   0.484302  0.482626  0.534835  0.509868   \n",
       "stl              0.554000  0.399028   0.459571  0.482626  0.534835  0.509868   \n",
       "\n",
       "                     fear   disgust      mean  mean_vad  mean_be5  \n",
       "mtl              0.543058  0.501057  0.516449  0.489169  0.532817  \n",
       "grouped          0.523064  0.496731  0.509141  0.490665  0.520227  \n",
       "vad_stl_be5_mtl  0.523064  0.496731  0.501717  0.470866  0.520227  \n",
       "vad_mtl_be5_stl  0.506203  0.474741  0.497534  0.490665  0.501655  \n",
       "stl              0.506203  0.474741  0.490109  0.470866  0.501655  "
      ]
     },
     "execution_count": 7,
     "metadata": {},
     "output_type": "execute_result"
    }
   ],
   "source": [
    "table = pd.DataFrame(index=versions, columns=constants.emotions, data=0.)\n",
    "for v in versions:\n",
    "    table.loc[v] = df.xs(v, level='version').mean()\n",
    "\n",
    "table[\"mean\"] = table.mean(axis=1)  \n",
    "table[\"mean_vad\"] = table[constants.vad].mean(axis=1)\n",
    "table[\"mean_be5\"] = table[constants.be5].mean(axis=1)\n",
    "table = table.sort_values(\"mean\", ascending=False)\n",
    "table"
   ]
  },
  {
   "cell_type": "markdown",
   "metadata": {},
   "source": [
    "`mtl` is slightly better across all variables than `grouped`. However the outcome is somewhat inconsistent: while `mtl` improves BE5 variables it actually leads to a performance drop for VAD."
   ]
  },
  {
   "cell_type": "markdown",
   "metadata": {},
   "source": [
    "---"
   ]
  },
  {
   "cell_type": "markdown",
   "metadata": {},
   "source": [
    "## Actual Silver Evaluation"
   ]
  },
  {
   "cell_type": "markdown",
   "metadata": {},
   "source": [
    "Run silver evaluation for all languages and save results to disk:"
   ]
  },
  {
   "cell_type": "code",
   "execution_count": 8,
   "metadata": {},
   "outputs": [
    {
     "name": "stdout",
     "output_type": "stream",
     "text": [
      "af\r"
     ]
    },
    {
     "name": "stderr",
     "output_type": "stream",
     "text": [
      "<ipython-input-8-3ad3e1f69fae>:1: DtypeWarning: Columns (57) have mixed types.Specify dtype option on import or set low_memory=False.\n",
      "  df = silver_evaluation_all_langs(split=\"test\", version=\"grouped\")\n"
     ]
    },
    {
     "name": "stdout",
     "output_type": "stream",
     "text": [
      "yob\r"
     ]
    }
   ],
   "source": [
    "df = silver_evaluation_all_langs(split=\"test\", version=\"grouped\")\n",
    "df.to_csv(constants.SILVER_EVALUATION_RESULTS)"
   ]
  },
  {
   "cell_type": "markdown",
   "metadata": {},
   "source": [
    "Load data and do further analysis and visualization:"
   ]
  },
  {
   "cell_type": "code",
   "execution_count": 9,
   "metadata": {},
   "outputs": [
    {
     "data": {
      "text/html": [
       "<div>\n",
       "<style scoped>\n",
       "    .dataframe tbody tr th:only-of-type {\n",
       "        vertical-align: middle;\n",
       "    }\n",
       "\n",
       "    .dataframe tbody tr th {\n",
       "        vertical-align: top;\n",
       "    }\n",
       "\n",
       "    .dataframe thead th {\n",
       "        text-align: right;\n",
       "    }\n",
       "</style>\n",
       "<table border=\"1\" class=\"dataframe\">\n",
       "  <thead>\n",
       "    <tr style=\"text-align: right;\">\n",
       "      <th></th>\n",
       "      <th>valence</th>\n",
       "      <th>arousal</th>\n",
       "      <th>dominance</th>\n",
       "      <th>joy</th>\n",
       "      <th>anger</th>\n",
       "      <th>sadness</th>\n",
       "      <th>fear</th>\n",
       "      <th>disgust</th>\n",
       "      <th>mean</th>\n",
       "    </tr>\n",
       "    <tr>\n",
       "      <th>iso</th>\n",
       "      <th></th>\n",
       "      <th></th>\n",
       "      <th></th>\n",
       "      <th></th>\n",
       "      <th></th>\n",
       "      <th></th>\n",
       "      <th></th>\n",
       "      <th></th>\n",
       "      <th></th>\n",
       "    </tr>\n",
       "  </thead>\n",
       "  <tbody>\n",
       "    <tr>\n",
       "      <th>en</th>\n",
       "      <td>0.940544</td>\n",
       "      <td>0.760695</td>\n",
       "      <td>0.878971</td>\n",
       "      <td>0.899509</td>\n",
       "      <td>0.914493</td>\n",
       "      <td>0.898406</td>\n",
       "      <td>0.885684</td>\n",
       "      <td>0.886774</td>\n",
       "      <td>0.883135</td>\n",
       "    </tr>\n",
       "    <tr>\n",
       "      <th>es</th>\n",
       "      <td>0.885645</td>\n",
       "      <td>0.702342</td>\n",
       "      <td>0.799313</td>\n",
       "      <td>0.829791</td>\n",
       "      <td>0.855900</td>\n",
       "      <td>0.846056</td>\n",
       "      <td>0.818424</td>\n",
       "      <td>0.810328</td>\n",
       "      <td>0.818475</td>\n",
       "    </tr>\n",
       "    <tr>\n",
       "      <th>it</th>\n",
       "      <td>0.878417</td>\n",
       "      <td>0.691315</td>\n",
       "      <td>0.809640</td>\n",
       "      <td>0.817006</td>\n",
       "      <td>0.854309</td>\n",
       "      <td>0.835281</td>\n",
       "      <td>0.821952</td>\n",
       "      <td>0.810328</td>\n",
       "      <td>0.814781</td>\n",
       "    </tr>\n",
       "    <tr>\n",
       "      <th>de</th>\n",
       "      <td>0.889465</td>\n",
       "      <td>0.657395</td>\n",
       "      <td>0.814296</td>\n",
       "      <td>0.823673</td>\n",
       "      <td>0.842842</td>\n",
       "      <td>0.818665</td>\n",
       "      <td>0.804190</td>\n",
       "      <td>0.814743</td>\n",
       "      <td>0.808159</td>\n",
       "    </tr>\n",
       "    <tr>\n",
       "      <th>sv</th>\n",
       "      <td>0.871370</td>\n",
       "      <td>0.641863</td>\n",
       "      <td>0.797535</td>\n",
       "      <td>0.817029</td>\n",
       "      <td>0.840017</td>\n",
       "      <td>0.815071</td>\n",
       "      <td>0.807747</td>\n",
       "      <td>0.797967</td>\n",
       "      <td>0.798575</td>\n",
       "    </tr>\n",
       "  </tbody>\n",
       "</table>\n",
       "</div>"
      ],
      "text/plain": [
       "      valence   arousal  dominance       joy     anger   sadness      fear  \\\n",
       "iso                                                                          \n",
       "en   0.940544  0.760695   0.878971  0.899509  0.914493  0.898406  0.885684   \n",
       "es   0.885645  0.702342   0.799313  0.829791  0.855900  0.846056  0.818424   \n",
       "it   0.878417  0.691315   0.809640  0.817006  0.854309  0.835281  0.821952   \n",
       "de   0.889465  0.657395   0.814296  0.823673  0.842842  0.818665  0.804190   \n",
       "sv   0.871370  0.641863   0.797535  0.817029  0.840017  0.815071  0.807747   \n",
       "\n",
       "      disgust      mean  \n",
       "iso                      \n",
       "en   0.886774  0.883135  \n",
       "es   0.810328  0.818475  \n",
       "it   0.810328  0.814781  \n",
       "de   0.814743  0.808159  \n",
       "sv   0.797967  0.798575  "
      ]
     },
     "execution_count": 9,
     "metadata": {},
     "output_type": "execute_result"
    }
   ],
   "source": [
    "df = pd.read_csv(constants.SILVER_EVALUATION_RESULTS, index_col=0)\n",
    "df['mean'] = df.mean(axis=1)\n",
    "df = df.sort_values('mean', ascending=False)\n",
    "df.head()"
   ]
  },
  {
   "cell_type": "code",
   "execution_count": 11,
   "metadata": {},
   "outputs": [
    {
     "data": {
      "image/png": "[encoded data removed]",
      "text/plain": [
       "<Figure size 576x252 with 1 Axes>"
      ]
     },
     "metadata": {
      "needs_background": "light"
     },
     "output_type": "display_data"
    }
   ],
   "source": [
    "df['pos'] = list(range(1, len(df)+1))\n",
    "\n",
    "\n",
    "fig, ax = plt.subplots(figsize=(8, 3.5))\n",
    "\n",
    "ax.set_xlim([1,91])\n",
    "ax.set_ylim([.0,1.0])\n",
    "\n",
    "ax.set_xticklabels([utils.language_table.loc[x,'google_fullname'] for x in df.index],  rotation=90)\n",
    "ax.set_xticks(df.pos)\n",
    "\n",
    "ax.set_yticks(np.arange(start=.0, stop=1.01, step=.05))\n",
    "\n",
    "ax.set_yticklabels(np.arange(start=0, stop=101, step=5))\n",
    "\n",
    "ax.tick_params(axis='x', which='major', labelsize=6)\n",
    "ax.tick_params(axis='y', which='major', labelsize=7)\n",
    "ax.set_ylabel('% Pearson Correlation')\n",
    "ax.set_xlabel('Language')\n",
    "\n",
    "for d in ['valence', 'arousal', 'dominance', 'joy', 'anger', 'sadness', 'fear', 'disgust']:\n",
    "    plt.plot(df.pos,df[d], label=d, alpha=.7)\n",
    "\n",
    "plt.legend(ncol=2)\n",
    "plt.grid()\n",
    "fig.savefig('silver-line.png', dpi=300, bbox_inches = 'tight')"
   ]
  },
  {
   "cell_type": "markdown",
   "metadata": {},
   "source": [
    "How many languages lie above certain performance thresholds?"
   ]
  },
  {
   "cell_type": "code",
   "execution_count": 12,
   "metadata": {},
   "outputs": [
    {
     "data": {
      "text/plain": [
       "56"
      ]
     },
     "execution_count": 12,
     "metadata": {},
     "output_type": "execute_result"
    }
   ],
   "source": [
    "len(df[df.valence > .70])"
   ]
  },
  {
   "cell_type": "code",
   "execution_count": 13,
   "metadata": {},
   "outputs": [
    {
     "data": {
      "text/plain": [
       "55"
      ]
     },
     "execution_count": 13,
     "metadata": {},
     "output_type": "execute_result"
    }
   ],
   "source": [
    "len(df[df.arousal > .5])"
   ]
  },
  {
   "cell_type": "markdown",
   "metadata": {},
   "source": [
    "---\n",
    "## Comparison against Baseline"
   ]
  },
  {
   "cell_type": "markdown",
   "metadata": {},
   "source": [
    "Run silver evaluation for the baseline lexicons and save to disk:"
   ]
  },
  {
   "cell_type": "code",
   "execution_count": 14,
   "metadata": {},
   "outputs": [
    {
     "name": "stdout",
     "output_type": "stream",
     "text": [
      "af\r"
     ]
    },
    {
     "name": "stderr",
     "output_type": "stream",
     "text": [
      "<ipython-input-14-ce16e5d1b59e>:1: DtypeWarning: Columns (57) have mixed types.Specify dtype option on import or set low_memory=False.\n",
      "  df = silver_evaluation_all_langs(split=\"test\", version=\"ridge\")\n"
     ]
    },
    {
     "name": "stdout",
     "output_type": "stream",
     "text": [
      "yob\r"
     ]
    }
   ],
   "source": [
    "df = silver_evaluation_all_langs(split=\"test\", version=\"ridge\")\n",
    "df.to_csv(constants.BASELINE_RESULTS)"
   ]
  },
  {
   "cell_type": "markdown",
   "metadata": {},
   "source": [
    "Load ridge baseline and MTLFFN results and compare both:"
   ]
  },
  {
   "cell_type": "code",
   "execution_count": 15,
   "metadata": {},
   "outputs": [
    {
     "data": {
      "text/html": [
       "<div>\n",
       "<style scoped>\n",
       "    .dataframe tbody tr th:only-of-type {\n",
       "        vertical-align: middle;\n",
       "    }\n",
       "\n",
       "    .dataframe tbody tr th {\n",
       "        vertical-align: top;\n",
       "    }\n",
       "\n",
       "    .dataframe thead th {\n",
       "        text-align: right;\n",
       "    }\n",
       "</style>\n",
       "<table border=\"1\" class=\"dataframe\">\n",
       "  <thead>\n",
       "    <tr style=\"text-align: right;\">\n",
       "      <th></th>\n",
       "      <th>valence</th>\n",
       "      <th>arousal</th>\n",
       "      <th>dominance</th>\n",
       "      <th>joy</th>\n",
       "      <th>anger</th>\n",
       "      <th>sadness</th>\n",
       "      <th>fear</th>\n",
       "      <th>disgust</th>\n",
       "    </tr>\n",
       "    <tr>\n",
       "      <th>iso</th>\n",
       "      <th></th>\n",
       "      <th></th>\n",
       "      <th></th>\n",
       "      <th></th>\n",
       "      <th></th>\n",
       "      <th></th>\n",
       "      <th></th>\n",
       "      <th></th>\n",
       "    </tr>\n",
       "  </thead>\n",
       "  <tbody>\n",
       "    <tr>\n",
       "      <th>af</th>\n",
       "      <td>0.804851</td>\n",
       "      <td>0.575980</td>\n",
       "      <td>0.740162</td>\n",
       "      <td>0.759676</td>\n",
       "      <td>0.747276</td>\n",
       "      <td>0.736776</td>\n",
       "      <td>0.708647</td>\n",
       "      <td>0.743772</td>\n",
       "    </tr>\n",
       "    <tr>\n",
       "      <th>sq</th>\n",
       "      <td>0.799467</td>\n",
       "      <td>0.567820</td>\n",
       "      <td>0.734991</td>\n",
       "      <td>0.746040</td>\n",
       "      <td>0.752304</td>\n",
       "      <td>0.749164</td>\n",
       "      <td>0.719019</td>\n",
       "      <td>0.722643</td>\n",
       "    </tr>\n",
       "    <tr>\n",
       "      <th>am</th>\n",
       "      <td>0.558573</td>\n",
       "      <td>0.307365</td>\n",
       "      <td>0.518451</td>\n",
       "      <td>0.484960</td>\n",
       "      <td>0.531145</td>\n",
       "      <td>0.542322</td>\n",
       "      <td>0.524378</td>\n",
       "      <td>0.470908</td>\n",
       "    </tr>\n",
       "    <tr>\n",
       "      <th>ar</th>\n",
       "      <td>0.777428</td>\n",
       "      <td>0.531497</td>\n",
       "      <td>0.696889</td>\n",
       "      <td>0.700904</td>\n",
       "      <td>0.752839</td>\n",
       "      <td>0.722357</td>\n",
       "      <td>0.705438</td>\n",
       "      <td>0.741181</td>\n",
       "    </tr>\n",
       "    <tr>\n",
       "      <th>hy</th>\n",
       "      <td>0.796443</td>\n",
       "      <td>0.517502</td>\n",
       "      <td>0.721456</td>\n",
       "      <td>0.748405</td>\n",
       "      <td>0.769858</td>\n",
       "      <td>0.733432</td>\n",
       "      <td>0.708661</td>\n",
       "      <td>0.734218</td>\n",
       "    </tr>\n",
       "  </tbody>\n",
       "</table>\n",
       "</div>"
      ],
      "text/plain": [
       "      valence   arousal  dominance       joy     anger   sadness      fear  \\\n",
       "iso                                                                          \n",
       "af   0.804851  0.575980   0.740162  0.759676  0.747276  0.736776  0.708647   \n",
       "sq   0.799467  0.567820   0.734991  0.746040  0.752304  0.749164  0.719019   \n",
       "am   0.558573  0.307365   0.518451  0.484960  0.531145  0.542322  0.524378   \n",
       "ar   0.777428  0.531497   0.696889  0.700904  0.752839  0.722357  0.705438   \n",
       "hy   0.796443  0.517502   0.721456  0.748405  0.769858  0.733432  0.708661   \n",
       "\n",
       "      disgust  \n",
       "iso            \n",
       "af   0.743772  \n",
       "sq   0.722643  \n",
       "am   0.470908  \n",
       "ar   0.741181  \n",
       "hy   0.734218  "
      ]
     },
     "execution_count": 15,
     "metadata": {},
     "output_type": "execute_result"
    }
   ],
   "source": [
    "mtlffn = pd.read_csv(constants.SILVER_EVALUATION_RESULTS, index_col=0)\n",
    "mtlffn.head()"
   ]
  },
  {
   "cell_type": "code",
   "execution_count": 16,
   "metadata": {},
   "outputs": [
    {
     "data": {
      "text/html": [
       "<div>\n",
       "<style scoped>\n",
       "    .dataframe tbody tr th:only-of-type {\n",
       "        vertical-align: middle;\n",
       "    }\n",
       "\n",
       "    .dataframe tbody tr th {\n",
       "        vertical-align: top;\n",
       "    }\n",
       "\n",
       "    .dataframe thead th {\n",
       "        text-align: right;\n",
       "    }\n",
       "</style>\n",
       "<table border=\"1\" class=\"dataframe\">\n",
       "  <thead>\n",
       "    <tr style=\"text-align: right;\">\n",
       "      <th></th>\n",
       "      <th>valence</th>\n",
       "      <th>arousal</th>\n",
       "      <th>dominance</th>\n",
       "      <th>joy</th>\n",
       "      <th>anger</th>\n",
       "      <th>sadness</th>\n",
       "      <th>fear</th>\n",
       "      <th>disgust</th>\n",
       "    </tr>\n",
       "    <tr>\n",
       "      <th>iso</th>\n",
       "      <th></th>\n",
       "      <th></th>\n",
       "      <th></th>\n",
       "      <th></th>\n",
       "      <th></th>\n",
       "      <th></th>\n",
       "      <th></th>\n",
       "      <th></th>\n",
       "    </tr>\n",
       "  </thead>\n",
       "  <tbody>\n",
       "    <tr>\n",
       "      <th>af</th>\n",
       "      <td>0.685140</td>\n",
       "      <td>0.502890</td>\n",
       "      <td>0.618513</td>\n",
       "      <td>0.667221</td>\n",
       "      <td>0.672090</td>\n",
       "      <td>0.630307</td>\n",
       "      <td>0.633227</td>\n",
       "      <td>0.614824</td>\n",
       "    </tr>\n",
       "    <tr>\n",
       "      <th>sq</th>\n",
       "      <td>0.696658</td>\n",
       "      <td>0.489099</td>\n",
       "      <td>0.616195</td>\n",
       "      <td>0.669951</td>\n",
       "      <td>0.657639</td>\n",
       "      <td>0.643525</td>\n",
       "      <td>0.625262</td>\n",
       "      <td>0.626086</td>\n",
       "    </tr>\n",
       "    <tr>\n",
       "      <th>am</th>\n",
       "      <td>0.503669</td>\n",
       "      <td>0.313524</td>\n",
       "      <td>0.465162</td>\n",
       "      <td>0.458828</td>\n",
       "      <td>0.490968</td>\n",
       "      <td>0.484878</td>\n",
       "      <td>0.471503</td>\n",
       "      <td>0.420737</td>\n",
       "    </tr>\n",
       "    <tr>\n",
       "      <th>ar</th>\n",
       "      <td>0.712092</td>\n",
       "      <td>0.484056</td>\n",
       "      <td>0.645098</td>\n",
       "      <td>0.669469</td>\n",
       "      <td>0.679765</td>\n",
       "      <td>0.667195</td>\n",
       "      <td>0.650396</td>\n",
       "      <td>0.678021</td>\n",
       "    </tr>\n",
       "    <tr>\n",
       "      <th>hy</th>\n",
       "      <td>0.694929</td>\n",
       "      <td>0.532108</td>\n",
       "      <td>0.644896</td>\n",
       "      <td>0.658505</td>\n",
       "      <td>0.690303</td>\n",
       "      <td>0.632257</td>\n",
       "      <td>0.646179</td>\n",
       "      <td>0.614042</td>\n",
       "    </tr>\n",
       "  </tbody>\n",
       "</table>\n",
       "</div>"
      ],
      "text/plain": [
       "      valence   arousal  dominance       joy     anger   sadness      fear  \\\n",
       "iso                                                                          \n",
       "af   0.685140  0.502890   0.618513  0.667221  0.672090  0.630307  0.633227   \n",
       "sq   0.696658  0.489099   0.616195  0.669951  0.657639  0.643525  0.625262   \n",
       "am   0.503669  0.313524   0.465162  0.458828  0.490968  0.484878  0.471503   \n",
       "ar   0.712092  0.484056   0.645098  0.669469  0.679765  0.667195  0.650396   \n",
       "hy   0.694929  0.532108   0.644896  0.658505  0.690303  0.632257  0.646179   \n",
       "\n",
       "      disgust  \n",
       "iso            \n",
       "af   0.614824  \n",
       "sq   0.626086  \n",
       "am   0.420737  \n",
       "ar   0.678021  \n",
       "hy   0.614042  "
      ]
     },
     "execution_count": 16,
     "metadata": {},
     "output_type": "execute_result"
    }
   ],
   "source": [
    "ridge = pd.read_csv(constants.BASELINE_RESULTS, index_col=0)\n",
    "ridge.head()"
   ]
  },
  {
   "cell_type": "code",
   "execution_count": 17,
   "metadata": {},
   "outputs": [
    {
     "data": {
      "text/html": [
       "<div>\n",
       "<style scoped>\n",
       "    .dataframe tbody tr th:only-of-type {\n",
       "        vertical-align: middle;\n",
       "    }\n",
       "\n",
       "    .dataframe tbody tr th {\n",
       "        vertical-align: top;\n",
       "    }\n",
       "\n",
       "    .dataframe thead th {\n",
       "        text-align: right;\n",
       "    }\n",
       "</style>\n",
       "<table border=\"1\" class=\"dataframe\">\n",
       "  <thead>\n",
       "    <tr style=\"text-align: right;\">\n",
       "      <th></th>\n",
       "      <th>valence</th>\n",
       "      <th>arousal</th>\n",
       "      <th>dominance</th>\n",
       "      <th>joy</th>\n",
       "      <th>anger</th>\n",
       "      <th>sadness</th>\n",
       "      <th>fear</th>\n",
       "      <th>disgust</th>\n",
       "    </tr>\n",
       "  </thead>\n",
       "  <tbody>\n",
       "    <tr>\n",
       "      <th>count</th>\n",
       "      <td>91.000000</td>\n",
       "      <td>91.000000</td>\n",
       "      <td>91.000000</td>\n",
       "      <td>91.000000</td>\n",
       "      <td>91.000000</td>\n",
       "      <td>91.000000</td>\n",
       "      <td>91.000000</td>\n",
       "      <td>91.000000</td>\n",
       "    </tr>\n",
       "    <tr>\n",
       "      <th>mean</th>\n",
       "      <td>0.079048</td>\n",
       "      <td>0.044693</td>\n",
       "      <td>0.073567</td>\n",
       "      <td>0.050656</td>\n",
       "      <td>0.070607</td>\n",
       "      <td>0.073825</td>\n",
       "      <td>0.063316</td>\n",
       "      <td>0.080315</td>\n",
       "    </tr>\n",
       "    <tr>\n",
       "      <th>std</th>\n",
       "      <td>0.023014</td>\n",
       "      <td>0.029422</td>\n",
       "      <td>0.024044</td>\n",
       "      <td>0.029991</td>\n",
       "      <td>0.024899</td>\n",
       "      <td>0.027044</td>\n",
       "      <td>0.024020</td>\n",
       "      <td>0.029668</td>\n",
       "    </tr>\n",
       "    <tr>\n",
       "      <th>min</th>\n",
       "      <td>0.012654</td>\n",
       "      <td>-0.051385</td>\n",
       "      <td>0.006968</td>\n",
       "      <td>-0.037028</td>\n",
       "      <td>0.006525</td>\n",
       "      <td>-0.002843</td>\n",
       "      <td>0.009986</td>\n",
       "      <td>-0.000513</td>\n",
       "    </tr>\n",
       "    <tr>\n",
       "      <th>25%</th>\n",
       "      <td>0.066861</td>\n",
       "      <td>0.026685</td>\n",
       "      <td>0.058593</td>\n",
       "      <td>0.032631</td>\n",
       "      <td>0.055238</td>\n",
       "      <td>0.057457</td>\n",
       "      <td>0.050633</td>\n",
       "      <td>0.062565</td>\n",
       "    </tr>\n",
       "    <tr>\n",
       "      <th>50%</th>\n",
       "      <td>0.081867</td>\n",
       "      <td>0.046591</td>\n",
       "      <td>0.075732</td>\n",
       "      <td>0.051788</td>\n",
       "      <td>0.072012</td>\n",
       "      <td>0.074670</td>\n",
       "      <td>0.062926</td>\n",
       "      <td>0.082428</td>\n",
       "    </tr>\n",
       "    <tr>\n",
       "      <th>75%</th>\n",
       "      <td>0.095777</td>\n",
       "      <td>0.063152</td>\n",
       "      <td>0.089937</td>\n",
       "      <td>0.074338</td>\n",
       "      <td>0.084210</td>\n",
       "      <td>0.091564</td>\n",
       "      <td>0.078353</td>\n",
       "      <td>0.096107</td>\n",
       "    </tr>\n",
       "    <tr>\n",
       "      <th>max</th>\n",
       "      <td>0.131455</td>\n",
       "      <td>0.114984</td>\n",
       "      <td>0.123476</td>\n",
       "      <td>0.106651</td>\n",
       "      <td>0.155728</td>\n",
       "      <td>0.148304</td>\n",
       "      <td>0.124651</td>\n",
       "      <td>0.185214</td>\n",
       "    </tr>\n",
       "  </tbody>\n",
       "</table>\n",
       "</div>"
      ],
      "text/plain": [
       "         valence    arousal  dominance        joy      anger    sadness  \\\n",
       "count  91.000000  91.000000  91.000000  91.000000  91.000000  91.000000   \n",
       "mean    0.079048   0.044693   0.073567   0.050656   0.070607   0.073825   \n",
       "std     0.023014   0.029422   0.024044   0.029991   0.024899   0.027044   \n",
       "min     0.012654  -0.051385   0.006968  -0.037028   0.006525  -0.002843   \n",
       "25%     0.066861   0.026685   0.058593   0.032631   0.055238   0.057457   \n",
       "50%     0.081867   0.046591   0.075732   0.051788   0.072012   0.074670   \n",
       "75%     0.095777   0.063152   0.089937   0.074338   0.084210   0.091564   \n",
       "max     0.131455   0.114984   0.123476   0.106651   0.155728   0.148304   \n",
       "\n",
       "            fear    disgust  \n",
       "count  91.000000  91.000000  \n",
       "mean    0.063316   0.080315  \n",
       "std     0.024020   0.029668  \n",
       "min     0.009986  -0.000513  \n",
       "25%     0.050633   0.062565  \n",
       "50%     0.062926   0.082428  \n",
       "75%     0.078353   0.096107  \n",
       "max     0.124651   0.185214  "
      ]
     },
     "execution_count": 17,
     "metadata": {},
     "output_type": "execute_result"
    }
   ],
   "source": [
    "diff = mtlffn - ridge \n",
    "diff.describe()"
   ]
  },
  {
   "cell_type": "code",
   "execution_count": 18,
   "metadata": {},
   "outputs": [
    {
     "data": {
      "text/plain": [
       "<matplotlib.axes._subplots.AxesSubplot at 0x7f4368bb13a0>"
      ]
     },
     "execution_count": 18,
     "metadata": {},
     "output_type": "execute_result"
    },
    {
     "data": {
      "image/png": "[encoded data removed]",
      "text/plain": [
       "<Figure size 432x288 with 1 Axes>"
      ]
     },
     "metadata": {
      "needs_background": "light"
     },
     "output_type": "display_data"
    }
   ],
   "source": [
    "diff.plot.density()"
   ]
  },
  {
   "cell_type": "code",
   "execution_count": 19,
   "metadata": {},
   "outputs": [
    {
     "name": "stdout",
     "output_type": "stream",
     "text": [
      "('am', 'arousal', -0.006159210497008183)\n",
      "('hy', 'arousal', -0.0146062336094811)\n",
      "('co', 'joy', -0.026389372821373158)\n",
      "('ka', 'arousal', -0.0141379818532541)\n",
      "('ky', 'arousal', -0.0033653916265238837)\n",
      "('la', 'joy', -0.012489045567706303)\n",
      "('mt', 'joy', -0.037028015338405995)\n",
      "('so', 'arousal', -0.03944609305908964)\n",
      "('su', 'joy', -0.014647629655671845)\n",
      "('su', 'sadness', -0.002843369431899667)\n",
      "('vi', 'arousal', -0.013590984632543102)\n",
      "('fy', 'joy', -0.011430884877390413)\n",
      "('yo', 'arousal', -0.051385115633792805)\n",
      "('yo', 'joy', -0.030942277982969058)\n",
      "('yo', 'disgust', -0.0005132990816295036)\n"
     ]
    }
   ],
   "source": [
    "baseline_wins = []\n",
    "for l in diff.index:\n",
    "    for e in diff.columns:\n",
    "        entry = diff.loc[l, e]\n",
    "        if entry < 0:\n",
    "            baseline_wins.append((l,e,entry))\n",
    "\n",
    "print(*baseline_wins, sep='\\n')"
   ]
  },
  {
   "cell_type": "code",
   "execution_count": 20,
   "metadata": {},
   "outputs": [
    {
     "data": {
      "text/plain": [
       "15"
      ]
     },
     "execution_count": 20,
     "metadata": {},
     "output_type": "execute_result"
    }
   ],
   "source": [
    "len(baseline_wins)"
   ]
  },
  {
   "cell_type": "code",
   "execution_count": 21,
   "metadata": {},
   "outputs": [
    {
     "data": {
      "text/plain": [
       "728"
      ]
     },
     "execution_count": 21,
     "metadata": {},
     "output_type": "execute_result"
    }
   ],
   "source": [
    "# all cases:\n",
    "diff.shape[0] * diff.shape[1]"
   ]
  },
  {
   "cell_type": "code",
   "execution_count": 22,
   "metadata": {},
   "outputs": [
    {
     "data": {
      "text/plain": [
       "0.020604395604395604"
      ]
     },
     "execution_count": 22,
     "metadata": {},
     "output_type": "execute_result"
    }
   ],
   "source": [
    "len(baseline_wins) / (diff.shape[0] * diff.shape[1])"
   ]
  },
  {
   "cell_type": "code",
   "execution_count": 23,
   "metadata": {},
   "outputs": [
    {
     "data": {
      "text/html": [
       "<div>\n",
       "<style scoped>\n",
       "    .dataframe tbody tr th:only-of-type {\n",
       "        vertical-align: middle;\n",
       "    }\n",
       "\n",
       "    .dataframe tbody tr th {\n",
       "        vertical-align: top;\n",
       "    }\n",
       "\n",
       "    .dataframe thead th {\n",
       "        text-align: right;\n",
       "    }\n",
       "</style>\n",
       "<table border=\"1\" class=\"dataframe\">\n",
       "  <thead>\n",
       "    <tr style=\"text-align: right;\">\n",
       "      <th></th>\n",
       "      <th>fastText_fullname</th>\n",
       "      <th>google_fullname</th>\n",
       "      <th>google_iso</th>\n",
       "      <th>articles_wiki</th>\n",
       "    </tr>\n",
       "    <tr>\n",
       "      <th>iso</th>\n",
       "      <th></th>\n",
       "      <th></th>\n",
       "      <th></th>\n",
       "      <th></th>\n",
       "    </tr>\n",
       "  </thead>\n",
       "  <tbody>\n",
       "    <tr>\n",
       "      <th>am</th>\n",
       "      <td>Amharic</td>\n",
       "      <td>amharic</td>\n",
       "      <td>am</td>\n",
       "      <td>14849</td>\n",
       "    </tr>\n",
       "    <tr>\n",
       "      <th>hy</th>\n",
       "      <td>Armenian</td>\n",
       "      <td>armenian</td>\n",
       "      <td>hy</td>\n",
       "      <td>259237</td>\n",
       "    </tr>\n",
       "    <tr>\n",
       "      <th>co</th>\n",
       "      <td>Corsican</td>\n",
       "      <td>corsican</td>\n",
       "      <td>co</td>\n",
       "      <td>5689</td>\n",
       "    </tr>\n",
       "    <tr>\n",
       "      <th>ka</th>\n",
       "      <td>Georgian</td>\n",
       "      <td>georgian</td>\n",
       "      <td>ka</td>\n",
       "      <td>132233</td>\n",
       "    </tr>\n",
       "    <tr>\n",
       "      <th>ky</th>\n",
       "      <td>Kirghiz</td>\n",
       "      <td>kyrgyz</td>\n",
       "      <td>ky</td>\n",
       "      <td>79735</td>\n",
       "    </tr>\n",
       "    <tr>\n",
       "      <th>la</th>\n",
       "      <td>Latin</td>\n",
       "      <td>latin</td>\n",
       "      <td>la</td>\n",
       "      <td>131359</td>\n",
       "    </tr>\n",
       "    <tr>\n",
       "      <th>mt</th>\n",
       "      <td>Maltese</td>\n",
       "      <td>maltese</td>\n",
       "      <td>mt</td>\n",
       "      <td>3425</td>\n",
       "    </tr>\n",
       "    <tr>\n",
       "      <th>so</th>\n",
       "      <td>Somali</td>\n",
       "      <td>somali</td>\n",
       "      <td>so</td>\n",
       "      <td>5655</td>\n",
       "    </tr>\n",
       "    <tr>\n",
       "      <th>su</th>\n",
       "      <td>Sundanese</td>\n",
       "      <td>sundanese</td>\n",
       "      <td>su</td>\n",
       "      <td>59571</td>\n",
       "    </tr>\n",
       "    <tr>\n",
       "      <th>vi</th>\n",
       "      <td>Vietnamese</td>\n",
       "      <td>vietnamese</td>\n",
       "      <td>vi</td>\n",
       "      <td>1237440</td>\n",
       "    </tr>\n",
       "    <tr>\n",
       "      <th>fy</th>\n",
       "      <td>West Frisian</td>\n",
       "      <td>frisian</td>\n",
       "      <td>fy</td>\n",
       "      <td>42880</td>\n",
       "    </tr>\n",
       "    <tr>\n",
       "      <th>yo</th>\n",
       "      <td>Yoruba</td>\n",
       "      <td>yoruba</td>\n",
       "      <td>yo</td>\n",
       "      <td>31947</td>\n",
       "    </tr>\n",
       "  </tbody>\n",
       "</table>\n",
       "</div>"
      ],
      "text/plain": [
       "    fastText_fullname google_fullname google_iso  articles_wiki\n",
       "iso                                                            \n",
       "am            Amharic         amharic         am          14849\n",
       "hy           Armenian        armenian         hy         259237\n",
       "co           Corsican        corsican         co           5689\n",
       "ka           Georgian        georgian         ka         132233\n",
       "ky            Kirghiz          kyrgyz         ky          79735\n",
       "la              Latin           latin         la         131359\n",
       "mt            Maltese         maltese         mt           3425\n",
       "so             Somali          somali         so           5655\n",
       "su          Sundanese       sundanese         su          59571\n",
       "vi         Vietnamese      vietnamese         vi        1237440\n",
       "fy       West Frisian         frisian         fy          42880\n",
       "yo             Yoruba          yoruba         yo          31947"
      ]
     },
     "execution_count": 23,
     "metadata": {},
     "output_type": "execute_result"
    }
   ],
   "source": [
    "utils.language_table.loc[[\"am\", \"hy\", \"co\", \"ka\", \"ky\", \"la\", \"mt\", \"so\", \"su\", \"vi\", \"fy\", \"yo\"]]"
   ]
  },
  {
   "cell_type": "code",
   "execution_count": 24,
   "metadata": {},
   "outputs": [
    {
     "data": {
      "text/plain": [
       "0.06700344635751967"
      ]
     },
     "execution_count": 24,
     "metadata": {},
     "output_type": "execute_result"
    }
   ],
   "source": [
    "# mean difference to baseline over all languages and emotions\n",
    "diff.mean().mean()"
   ]
  },
  {
   "cell_type": "code",
   "execution_count": 25,
   "metadata": {},
   "outputs": [
    {
     "data": {
      "text/plain": [
       "0.02025543513760738"
      ]
     },
     "execution_count": 25,
     "metadata": {},
     "output_type": "execute_result"
    }
   ],
   "source": [
    "# standard deviation over languages\n",
    "diff.mean(axis=1).std()"
   ]
  },
  {
   "cell_type": "markdown",
   "metadata": {},
   "source": [
    "---"
   ]
  },
  {
   "cell_type": "markdown",
   "metadata": {},
   "source": [
    "## Correlation of Silver Evaluation Results with Wikipedia Article Number"
   ]
  },
  {
   "cell_type": "code",
   "execution_count": 26,
   "metadata": {},
   "outputs": [
    {
     "data": {
      "text/html": [
       "<div>\n",
       "<style scoped>\n",
       "    .dataframe tbody tr th:only-of-type {\n",
       "        vertical-align: middle;\n",
       "    }\n",
       "\n",
       "    .dataframe tbody tr th {\n",
       "        vertical-align: top;\n",
       "    }\n",
       "\n",
       "    .dataframe thead th {\n",
       "        text-align: right;\n",
       "    }\n",
       "</style>\n",
       "<table border=\"1\" class=\"dataframe\">\n",
       "  <thead>\n",
       "    <tr style=\"text-align: right;\">\n",
       "      <th></th>\n",
       "      <th>valence</th>\n",
       "      <th>arousal</th>\n",
       "      <th>dominance</th>\n",
       "      <th>joy</th>\n",
       "      <th>anger</th>\n",
       "      <th>sadness</th>\n",
       "      <th>fear</th>\n",
       "      <th>disgust</th>\n",
       "      <th>mean</th>\n",
       "    </tr>\n",
       "    <tr>\n",
       "      <th>iso</th>\n",
       "      <th></th>\n",
       "      <th></th>\n",
       "      <th></th>\n",
       "      <th></th>\n",
       "      <th></th>\n",
       "      <th></th>\n",
       "      <th></th>\n",
       "      <th></th>\n",
       "      <th></th>\n",
       "    </tr>\n",
       "  </thead>\n",
       "  <tbody>\n",
       "    <tr>\n",
       "      <th>af</th>\n",
       "      <td>0.804851</td>\n",
       "      <td>0.575980</td>\n",
       "      <td>0.740162</td>\n",
       "      <td>0.759676</td>\n",
       "      <td>0.747276</td>\n",
       "      <td>0.736776</td>\n",
       "      <td>0.708647</td>\n",
       "      <td>0.743772</td>\n",
       "      <td>0.727142</td>\n",
       "    </tr>\n",
       "    <tr>\n",
       "      <th>sq</th>\n",
       "      <td>0.799467</td>\n",
       "      <td>0.567820</td>\n",
       "      <td>0.734991</td>\n",
       "      <td>0.746040</td>\n",
       "      <td>0.752304</td>\n",
       "      <td>0.749164</td>\n",
       "      <td>0.719019</td>\n",
       "      <td>0.722643</td>\n",
       "      <td>0.723931</td>\n",
       "    </tr>\n",
       "    <tr>\n",
       "      <th>am</th>\n",
       "      <td>0.558573</td>\n",
       "      <td>0.307365</td>\n",
       "      <td>0.518451</td>\n",
       "      <td>0.484960</td>\n",
       "      <td>0.531145</td>\n",
       "      <td>0.542322</td>\n",
       "      <td>0.524378</td>\n",
       "      <td>0.470908</td>\n",
       "      <td>0.492263</td>\n",
       "    </tr>\n",
       "    <tr>\n",
       "      <th>ar</th>\n",
       "      <td>0.777428</td>\n",
       "      <td>0.531497</td>\n",
       "      <td>0.696889</td>\n",
       "      <td>0.700904</td>\n",
       "      <td>0.752839</td>\n",
       "      <td>0.722357</td>\n",
       "      <td>0.705438</td>\n",
       "      <td>0.741181</td>\n",
       "      <td>0.703567</td>\n",
       "    </tr>\n",
       "    <tr>\n",
       "      <th>hy</th>\n",
       "      <td>0.796443</td>\n",
       "      <td>0.517502</td>\n",
       "      <td>0.721456</td>\n",
       "      <td>0.748405</td>\n",
       "      <td>0.769858</td>\n",
       "      <td>0.733432</td>\n",
       "      <td>0.708661</td>\n",
       "      <td>0.734218</td>\n",
       "      <td>0.716247</td>\n",
       "    </tr>\n",
       "  </tbody>\n",
       "</table>\n",
       "</div>"
      ],
      "text/plain": [
       "      valence   arousal  dominance       joy     anger   sadness      fear  \\\n",
       "iso                                                                          \n",
       "af   0.804851  0.575980   0.740162  0.759676  0.747276  0.736776  0.708647   \n",
       "sq   0.799467  0.567820   0.734991  0.746040  0.752304  0.749164  0.719019   \n",
       "am   0.558573  0.307365   0.518451  0.484960  0.531145  0.542322  0.524378   \n",
       "ar   0.777428  0.531497   0.696889  0.700904  0.752839  0.722357  0.705438   \n",
       "hy   0.796443  0.517502   0.721456  0.748405  0.769858  0.733432  0.708661   \n",
       "\n",
       "      disgust      mean  \n",
       "iso                      \n",
       "af   0.743772  0.727142  \n",
       "sq   0.722643  0.723931  \n",
       "am   0.470908  0.492263  \n",
       "ar   0.741181  0.703567  \n",
       "hy   0.734218  0.716247  "
      ]
     },
     "execution_count": 26,
     "metadata": {},
     "output_type": "execute_result"
    }
   ],
   "source": [
    "silver = pd.read_csv(constants.SILVER_EVALUATION_RESULTS, index_col=0)\n",
    "silver[\"mean\"] = silver.mean(axis=1)\n",
    "silver.head()"
   ]
  },
  {
   "cell_type": "code",
   "execution_count": 27,
   "metadata": {},
   "outputs": [
    {
     "data": {
      "text/html": [
       "<div>\n",
       "<style scoped>\n",
       "    .dataframe tbody tr th:only-of-type {\n",
       "        vertical-align: middle;\n",
       "    }\n",
       "\n",
       "    .dataframe tbody tr th {\n",
       "        vertical-align: top;\n",
       "    }\n",
       "\n",
       "    .dataframe thead th {\n",
       "        text-align: right;\n",
       "    }\n",
       "</style>\n",
       "<table border=\"1\" class=\"dataframe\">\n",
       "  <thead>\n",
       "    <tr style=\"text-align: right;\">\n",
       "      <th></th>\n",
       "      <th>fastText_fullname</th>\n",
       "      <th>google_fullname</th>\n",
       "      <th>google_iso</th>\n",
       "      <th>articles_wiki</th>\n",
       "    </tr>\n",
       "    <tr>\n",
       "      <th>iso</th>\n",
       "      <th></th>\n",
       "      <th></th>\n",
       "      <th></th>\n",
       "      <th></th>\n",
       "    </tr>\n",
       "  </thead>\n",
       "  <tbody>\n",
       "    <tr>\n",
       "      <th>af</th>\n",
       "      <td>Afrikaans</td>\n",
       "      <td>afrikaans</td>\n",
       "      <td>af</td>\n",
       "      <td>85954</td>\n",
       "    </tr>\n",
       "    <tr>\n",
       "      <th>sq</th>\n",
       "      <td>Albanian</td>\n",
       "      <td>albanian</td>\n",
       "      <td>sq</td>\n",
       "      <td>77869</td>\n",
       "    </tr>\n",
       "    <tr>\n",
       "      <th>am</th>\n",
       "      <td>Amharic</td>\n",
       "      <td>amharic</td>\n",
       "      <td>am</td>\n",
       "      <td>14849</td>\n",
       "    </tr>\n",
       "    <tr>\n",
       "      <th>ar</th>\n",
       "      <td>Arabic</td>\n",
       "      <td>arabic</td>\n",
       "      <td>ar</td>\n",
       "      <td>964345</td>\n",
       "    </tr>\n",
       "    <tr>\n",
       "      <th>hy</th>\n",
       "      <td>Armenian</td>\n",
       "      <td>armenian</td>\n",
       "      <td>hy</td>\n",
       "      <td>259237</td>\n",
       "    </tr>\n",
       "  </tbody>\n",
       "</table>\n",
       "</div>"
      ],
      "text/plain": [
       "    fastText_fullname google_fullname google_iso  articles_wiki\n",
       "iso                                                            \n",
       "af          Afrikaans       afrikaans         af          85954\n",
       "sq           Albanian        albanian         sq          77869\n",
       "am            Amharic         amharic         am          14849\n",
       "ar             Arabic          arabic         ar         964345\n",
       "hy           Armenian        armenian         hy         259237"
      ]
     },
     "execution_count": 27,
     "metadata": {},
     "output_type": "execute_result"
    }
   ],
   "source": [
    "lgs = utils.language_table\n",
    "lgs.head()"
   ]
  },
  {
   "cell_type": "code",
   "execution_count": 28,
   "metadata": {},
   "outputs": [
    {
     "data": {
      "text/plain": [
       "SpearmanrResult(correlation=0.7333811116419812, pvalue=1.3791652435925386e-16)"
      ]
     },
     "execution_count": 28,
     "metadata": {},
     "output_type": "execute_result"
    }
   ],
   "source": [
    "st.spearmanr(silver[\"mean\"], lgs[\"articles_wiki\"])"
   ]
  },
  {
   "cell_type": "markdown",
   "metadata": {},
   "source": [
    "---"
   ]
  }
 ],
 "metadata": {
  "kernelspec": {
   "display_name": "Python 3",
   "language": "python",
   "name": "python3"
  },
  "language_info": {
   "codemirror_mode": {
    "name": "ipython",
    "version": 3
   },
   "file_extension": ".py",
   "mimetype": "text/x-python",
   "name": "python",
   "nbconvert_exporter": "python",
   "pygments_lexer": "ipython3",
   "version": "3.8.2"
  }
 },
 "nbformat": 4,
 "nbformat_minor": 2
}