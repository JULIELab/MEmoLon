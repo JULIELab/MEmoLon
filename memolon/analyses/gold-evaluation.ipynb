{
 "cells": [
  {
   "cell_type": "markdown",
   "metadata": {},
   "source": [
    "# Gold Evaluation"
   ]
  },
  {
   "cell_type": "code",
   "execution_count": 1,
   "metadata": {},
   "outputs": [],
   "source": [
    "import numpy as np\n",
    "import scipy.stats as st\n",
    "import pandas as pd\n",
    "import matplotlib.pyplot as plt\n",
    "%matplotlib inline\n",
    "\n",
    "from memolon.src import utils, constants\n",
    "\n",
    "from pathlib import Path\n",
    "import json\n",
    "\n",
    "import copy\n",
    "from io import StringIO"
   ]
  },
  {
   "cell_type": "markdown",
   "metadata": {},
   "source": [
    "Define gold evaluation for one particular dataset:"
   ]
  },
  {
   "cell_type": "code",
   "execution_count": 2,
   "metadata": {},
   "outputs": [],
   "source": [
    "def gold_eval_one_dataset(targetGold, targetPred_test):\n",
    "\n",
    "    rt = {}\n",
    "    \n",
    "    # Find shared vocab between TargetGold and TargetPred-test. This is what we test on.\n",
    "    shared = utils.list_intersection(targetGold.index, targetPred_test.index)\n",
    "    rt['shared'] = len(shared)\n",
    "    rt['(%)'] = int(len(shared) / len(targetGold) * 100)\n",
    "    \n",
    "    # Compute Pearson correlation for each  emotional variable.\n",
    "    for c in targetGold.columns:\n",
    "        rt[c] = st.pearsonr(targetGold.loc[shared, c], targetPred_test.loc[shared, c])[0]\n",
    "    return rt\n"
   ]
  },
  {
   "cell_type": "markdown",
   "metadata": {},
   "source": [
    "Run evaluation for all gold datasets and save to disk:"
   ]
  },
  {
   "cell_type": "code",
   "execution_count": 3,
   "metadata": {
    "scrolled": false
   },
   "outputs": [
    {
     "name": "stdout",
     "output_type": "stream",
     "text": [
      "en1\r"
     ]
    },
    {
     "name": "stderr",
     "output_type": "stream",
     "text": [
      "/home/ruecker/miniconda3/envs/emotionlexica/lib/python3.8/site-packages/IPython/core/interactiveshell.py:3331: DtypeWarning: Columns (57) have mixed types.Specify dtype option on import or set low_memory=False.\n",
      "  exec(code_obj, self.user_global_ns, self.user_ns)\n"
     ]
    },
    {
     "name": "stdout",
     "output_type": "stream",
     "text": [
      "hr2\r"
     ]
    }
   ],
   "source": [
    "df = pd.DataFrame(columns=['valence', 'arousal', 'dominance', 'joy', 'anger', 'sadness',\n",
    "                           'fear', 'disgust', 'shared', '(%)'],\n",
    "                 index=utils.conditions.keys())\n",
    "for key, value in utils.conditions.items():\n",
    "    print(key, end='\\r')\n",
    "    iso = value['iso']\n",
    "    target_gold = value['get']()\n",
    "    df.loc[key] = gold_eval_one_dataset(targetGold=target_gold,\n",
    "                                targetPred_test=utils.get_TargetPred(iso=iso, split='test'))\n",
    "\n",
    "df.to_csv(constants.GOLD_EVALUATION_RESULTS)"
   ]
  },
  {
   "cell_type": "markdown",
   "metadata": {},
   "source": [
    "Inspect and format into VA(D) and BE5 datasets:"
   ]
  },
  {
   "cell_type": "code",
   "execution_count": 4,
   "metadata": {},
   "outputs": [
    {
     "data": {
      "text/html": [
       "<div>\n",
       "<style scoped>\n",
       "    .dataframe tbody tr th:only-of-type {\n",
       "        vertical-align: middle;\n",
       "    }\n",
       "\n",
       "    .dataframe tbody tr th {\n",
       "        vertical-align: top;\n",
       "    }\n",
       "\n",
       "    .dataframe thead th {\n",
       "        text-align: right;\n",
       "    }\n",
       "</style>\n",
       "<table border=\"1\" class=\"dataframe\">\n",
       "  <thead>\n",
       "    <tr style=\"text-align: right;\">\n",
       "      <th></th>\n",
       "      <th>valence</th>\n",
       "      <th>arousal</th>\n",
       "      <th>dominance</th>\n",
       "      <th>joy</th>\n",
       "      <th>anger</th>\n",
       "      <th>sadness</th>\n",
       "      <th>fear</th>\n",
       "      <th>disgust</th>\n",
       "      <th>shared</th>\n",
       "      <th>(%)</th>\n",
       "    </tr>\n",
       "  </thead>\n",
       "  <tbody>\n",
       "    <tr>\n",
       "      <th>en1</th>\n",
       "      <td>0.940544</td>\n",
       "      <td>0.760695</td>\n",
       "      <td>0.878971</td>\n",
       "      <td>NaN</td>\n",
       "      <td>NaN</td>\n",
       "      <td>NaN</td>\n",
       "      <td>NaN</td>\n",
       "      <td>NaN</td>\n",
       "      <td>1032.0</td>\n",
       "      <td>100.0</td>\n",
       "    </tr>\n",
       "    <tr>\n",
       "      <th>en2</th>\n",
       "      <td>0.921625</td>\n",
       "      <td>0.708846</td>\n",
       "      <td>0.782097</td>\n",
       "      <td>NaN</td>\n",
       "      <td>NaN</td>\n",
       "      <td>NaN</td>\n",
       "      <td>NaN</td>\n",
       "      <td>NaN</td>\n",
       "      <td>1034.0</td>\n",
       "      <td>100.0</td>\n",
       "    </tr>\n",
       "    <tr>\n",
       "      <th>en3</th>\n",
       "      <td>NaN</td>\n",
       "      <td>NaN</td>\n",
       "      <td>NaN</td>\n",
       "      <td>0.890146</td>\n",
       "      <td>0.834981</td>\n",
       "      <td>0.79838</td>\n",
       "      <td>0.821245</td>\n",
       "      <td>0.776637</td>\n",
       "      <td>1033.0</td>\n",
       "      <td>99.0</td>\n",
       "    </tr>\n",
       "    <tr>\n",
       "      <th>es1</th>\n",
       "      <td>0.905345</td>\n",
       "      <td>0.714292</td>\n",
       "      <td>0.823378</td>\n",
       "      <td>NaN</td>\n",
       "      <td>NaN</td>\n",
       "      <td>NaN</td>\n",
       "      <td>NaN</td>\n",
       "      <td>NaN</td>\n",
       "      <td>612.0</td>\n",
       "      <td>59.0</td>\n",
       "    </tr>\n",
       "    <tr>\n",
       "      <th>es2</th>\n",
       "      <td>0.789475</td>\n",
       "      <td>0.637861</td>\n",
       "      <td>NaN</td>\n",
       "      <td>NaN</td>\n",
       "      <td>NaN</td>\n",
       "      <td>NaN</td>\n",
       "      <td>NaN</td>\n",
       "      <td>NaN</td>\n",
       "      <td>7685.0</td>\n",
       "      <td>54.0</td>\n",
       "    </tr>\n",
       "  </tbody>\n",
       "</table>\n",
       "</div>"
      ],
      "text/plain": [
       "      valence   arousal  dominance       joy     anger  sadness      fear  \\\n",
       "en1  0.940544  0.760695   0.878971       NaN       NaN      NaN       NaN   \n",
       "en2  0.921625  0.708846   0.782097       NaN       NaN      NaN       NaN   \n",
       "en3       NaN       NaN        NaN  0.890146  0.834981  0.79838  0.821245   \n",
       "es1  0.905345  0.714292   0.823378       NaN       NaN      NaN       NaN   \n",
       "es2  0.789475  0.637861        NaN       NaN       NaN      NaN       NaN   \n",
       "\n",
       "      disgust  shared    (%)  \n",
       "en1       NaN  1032.0  100.0  \n",
       "en2       NaN  1034.0  100.0  \n",
       "en3  0.776637  1033.0   99.0  \n",
       "es1       NaN   612.0   59.0  \n",
       "es2       NaN  7685.0   54.0  "
      ]
     },
     "execution_count": 4,
     "metadata": {},
     "output_type": "execute_result"
    }
   ],
   "source": [
    "df = pd.read_csv(constants.GOLD_EVALUATION_RESULTS, index_col=0)\n",
    "df.head()"
   ]
  },
  {
   "cell_type": "code",
   "execution_count": 5,
   "metadata": {},
   "outputs": [],
   "source": [
    "df_vad = pd.DataFrame(columns=['Shared', '(%)', 'Val', 'Aro', 'Dom'])\n",
    "df_be = pd.DataFrame(columns=['Shared', '(%)', 'Joy', 'Ang', 'Sad', 'Fea', 'Dis'])\n",
    "\n",
    "for key, value in utils.conditions.items():\n",
    "    if value['emo'] == 'vad':\n",
    "        df_vad.loc[key] = [df.loc[key, var] for var in ['shared', '(%)', 'valence', 'arousal', 'dominance']]\n",
    "    elif value['emo'] == 'be':\n",
    "        df_be.loc[key] = [df.loc[key, var] for var in ['shared','(%)', 'joy', 'anger', 'sadness', 'fear', 'disgust']]\n",
    "    else:\n",
    "        raise ValueError('{} neither vad nor be'.format(value['emo']))"
   ]
  },
  {
   "cell_type": "code",
   "execution_count": 6,
   "metadata": {},
   "outputs": [
    {
     "name": "stdout",
     "output_type": "stream",
     "text": [
      "\\begin{tabular}{lrrrrr}\n",
      "\\toprule\n",
      "{} &  Shared &  (\\%) &  Val &  Aro &  Dom \\\\\n",
      "\\midrule\n",
      "en1  &    1032 &  100 &  .94 &  .76 &  .88 \\\\\n",
      "en2  &    1034 &  100 &  .92 &  .71 &  .78 \\\\\n",
      "es1  &     612 &   59 &  .91 &  .71 &  .82 \\\\\n",
      "es2  &    7685 &   54 &  .79 &  .64 &  --- \\\\\n",
      "es3  &     363 &   41 &  .91 &  .73 &  --- \\\\\n",
      "de1  &     677 &   67 &  .89 &  .78 &  .68 \\\\\n",
      "de2  &    2329 &   80 &  .75 &  .64 &  --- \\\\\n",
      "de3  &     916 &   91 &  .80 &  .67 &  --- \\\\\n",
      "pl1  &    2271 &   46 &  .83 &  .74 &  .60 \\\\\n",
      "pl2  &    1381 &   47 &  .82 &  .61 &  --- \\\\\n",
      "zh1  &    1685 &   60 &  .84 &  .56 &  --- \\\\\n",
      "zh2  &     701 &   63 &  .84 &  .44 &  --- \\\\\n",
      "it   &     660 &   58 &  .89 &  .63 &  .76 \\\\\n",
      "pt   &     645 &   62 &  .89 &  .71 &  .75 \\\\\n",
      "nl   &    2064 &   48 &  .85 &  .58 &  --- \\\\\n",
      "id   &     696 &   46 &  .84 &  .64 &  .63 \\\\\n",
      "el   &     633 &   61 &  .86 &  .50 &  .74 \\\\\n",
      "tr1  &     721 &   35 &  .75 &  .57 &  --- \\\\\n",
      "hr   &    1331 &   44 &  .81 &  .66 &  --- \\\\\n",
      "Mean &    1444 &   61 &  .85 &  .65 &  .74 \\\\\n",
      "\\bottomrule\n",
      "\\end{tabular}\n",
      "\n"
     ]
    }
   ],
   "source": [
    "df_vad.loc['Mean'] = df_vad.mean(axis=0)\n",
    "s = df_vad.round(2).astype({'Shared': int, '(%)':int}).to_latex(float_format=utils.formatter)\n",
    "\n",
    "print(s)"
   ]
  },
  {
   "cell_type": "markdown",
   "metadata": {},
   "source": [
    "Mean for datasets with comparative monolingual results (Buechel, NAACL 2018)."
   ]
  },
  {
   "cell_type": "code",
   "execution_count": 7,
   "metadata": {},
   "outputs": [
    {
     "data": {
      "text/plain": [
       "Shared    1732.818182\n",
       "(%)         63.636364\n",
       "Val          0.871590\n",
       "Aro          0.677322\n",
       "Dom          0.738592\n",
       "dtype: float64"
      ]
     },
     "execution_count": 7,
     "metadata": {},
     "output_type": "execute_result"
    }
   ],
   "source": [
    "df_vad.loc[['en1', 'en2', 'es1', 'es2', 'de1', 'pl1', 'zh1', 'it', 'pt', 'nl', 'id']].mean(axis=0)"
   ]
  },
  {
   "cell_type": "markdown",
   "metadata": {},
   "source": [
    "Comparison against monolingual results from Buechel (NAACL 2018). Experimental results are available [here](https://github.com/JULIELab/wordEmotions/tree/master/naacl/prediction/experiments/main/results). (Data from proposed model found in `my_model_relu.tsv`. For the English datasets, the versions `_common_crawl` showed the best performance."
   ]
  },
  {
   "cell_type": "code",
   "execution_count": 8,
   "metadata": {},
   "outputs": [
    {
     "data": {
      "text/html": [
       "<div>\n",
       "<style scoped>\n",
       "    .dataframe tbody tr th:only-of-type {\n",
       "        vertical-align: middle;\n",
       "    }\n",
       "\n",
       "    .dataframe tbody tr th {\n",
       "        vertical-align: top;\n",
       "    }\n",
       "\n",
       "    .dataframe thead th {\n",
       "        text-align: right;\n",
       "    }\n",
       "</style>\n",
       "<table border=\"1\" class=\"dataframe\">\n",
       "  <thead>\n",
       "    <tr style=\"text-align: right;\">\n",
       "      <th></th>\n",
       "      <th>valence</th>\n",
       "      <th>arousal</th>\n",
       "      <th>dominance</th>\n",
       "    </tr>\n",
       "  </thead>\n",
       "  <tbody>\n",
       "    <tr>\n",
       "      <th>en1</th>\n",
       "      <td>0.869536</td>\n",
       "      <td>0.674348</td>\n",
       "      <td>0.758538</td>\n",
       "    </tr>\n",
       "    <tr>\n",
       "      <th>en2</th>\n",
       "      <td>0.918247</td>\n",
       "      <td>0.729823</td>\n",
       "      <td>0.824783</td>\n",
       "    </tr>\n",
       "    <tr>\n",
       "      <th>es1</th>\n",
       "      <td>0.879599</td>\n",
       "      <td>0.698149</td>\n",
       "      <td>0.834685</td>\n",
       "    </tr>\n",
       "    <tr>\n",
       "      <th>es2</th>\n",
       "      <td>0.817686</td>\n",
       "      <td>0.738866</td>\n",
       "      <td>NaN</td>\n",
       "    </tr>\n",
       "    <tr>\n",
       "      <th>de1</th>\n",
       "      <td>0.867550</td>\n",
       "      <td>0.799622</td>\n",
       "      <td>0.736510</td>\n",
       "    </tr>\n",
       "    <tr>\n",
       "      <th>pl1</th>\n",
       "      <td>0.741797</td>\n",
       "      <td>0.698776</td>\n",
       "      <td>0.694065</td>\n",
       "    </tr>\n",
       "    <tr>\n",
       "      <th>zh1</th>\n",
       "      <td>0.854740</td>\n",
       "      <td>0.633811</td>\n",
       "      <td>NaN</td>\n",
       "    </tr>\n",
       "    <tr>\n",
       "      <th>it</th>\n",
       "      <td>0.860557</td>\n",
       "      <td>0.645238</td>\n",
       "      <td>0.745872</td>\n",
       "    </tr>\n",
       "    <tr>\n",
       "      <th>pt</th>\n",
       "      <td>0.861287</td>\n",
       "      <td>0.714446</td>\n",
       "      <td>0.729002</td>\n",
       "    </tr>\n",
       "    <tr>\n",
       "      <th>nl</th>\n",
       "      <td>0.792326</td>\n",
       "      <td>0.738496</td>\n",
       "      <td>NaN</td>\n",
       "    </tr>\n",
       "    <tr>\n",
       "      <th>id</th>\n",
       "      <td>0.799341</td>\n",
       "      <td>0.603201</td>\n",
       "      <td>0.577848</td>\n",
       "    </tr>\n",
       "    <tr>\n",
       "      <th>MEAN</th>\n",
       "      <td>0.842061</td>\n",
       "      <td>0.697707</td>\n",
       "      <td>0.737663</td>\n",
       "    </tr>\n",
       "  </tbody>\n",
       "</table>\n",
       "</div>"
      ],
      "text/plain": [
       "       valence   arousal  dominance\n",
       "en1   0.869536  0.674348   0.758538\n",
       "en2   0.918247  0.729823   0.824783\n",
       "es1   0.879599  0.698149   0.834685\n",
       "es2   0.817686  0.738866        NaN\n",
       "de1   0.867550  0.799622   0.736510\n",
       "pl1   0.741797  0.698776   0.694065\n",
       "zh1   0.854740  0.633811        NaN\n",
       "it    0.860557  0.645238   0.745872\n",
       "pt    0.861287  0.714446   0.729002\n",
       "nl    0.792326  0.738496        NaN\n",
       "id    0.799341  0.603201   0.577848\n",
       "MEAN  0.842061  0.697707   0.737663"
      ]
     },
     "execution_count": 8,
     "metadata": {},
     "output_type": "execute_result"
    }
   ],
   "source": [
    "buechel = pd.DataFrame(columns=constants.vad)\n",
    "buechel.loc[\"en1\"] = [0.8695357984492947, 0.6743475845073215, 0.7585379325056423]\n",
    "buechel.loc[\"en2\"] = [0.9182468721131594, 0.7298232760549845, 0.8247833442109835]\n",
    "buechel.loc[\"es1\"] = [0.8795993715288171, 0.6981487340135996, 0.8346854175355294]\n",
    "buechel.loc[\"es2\"] = [0.8176857473317852, 0.7388663857337776, None]\n",
    "buechel.loc[\"de1\"] = [0.8675498005735844, 0.7996219516790998, 0.7365101991148422]\n",
    "buechel.loc[\"pl1\"] = [0.7417973149362131, 0.6987762216663478, 0.694064739363759]\n",
    "buechel.loc[\"zh1\"] = [0.8547400710739769, 0.6338107344827453, None]\n",
    "buechel.loc[\"it\"] = [0.8605569379688705, 0.6452377487011844, 0.7458722210180169]\n",
    "buechel.loc[\"pt\"] = [0.8612869524191618, 0.7144457538585538, 0.7290024427024978]\n",
    "buechel.loc[\"nl\"] = [0.792326386848945, 0.7384957169011812, None]\n",
    "buechel.loc[\"id\"] = [0.7993408905574892, 0.603200774683224, 0.5778482333058352]\n",
    "buechel.loc[\"MEAN\"] = buechel.mean(axis=0)\n",
    "buechel"
   ]
  },
  {
   "cell_type": "markdown",
   "metadata": {},
   "source": [
    "Formatting for BE5:"
   ]
  },
  {
   "cell_type": "code",
   "execution_count": 10,
   "metadata": {},
   "outputs": [
    {
     "name": "stdout",
     "output_type": "stream",
     "text": [
      "\\begin{tabular}{lrrrrrrr}\n",
      "\\toprule\n",
      "{} &  Shared &  (\\%) &  Joy &  Ang &  Sad &  Fea &  Dis \\\\\n",
      "\\midrule\n",
      "en3  &    1033 &   99 &  .89 &  .83 &  .80 &  .82 &  .78 \\\\\n",
      "es4  &     363 &   41 &  .86 &  .84 &  .84 &  .84 &  .76 \\\\\n",
      "es5  &    6096 &   58 &  .64 &  .72 &  .72 &  .72 &  .63 \\\\\n",
      "es6  &     992 &   43 &  .80 &  .74 &  .71 &  .72 &  .68 \\\\\n",
      "de4  &     848 &   43 &  .80 &  .66 &  .52 &  .68 &  .42 \\\\\n",
      "pl3  &    1381 &   47 &  .78 &  .71 &  .66 &  .69 &  .71 \\\\\n",
      "tr2  &     721 &   35 &  .77 &  .69 &  .71 &  .70 &  .65 \\\\\n",
      "Mean &    1633 &   52 &  .79 &  .74 &  .71 &  .74 &  .66 \\\\\n",
      "\\bottomrule\n",
      "\\end{tabular}\n",
      "\n"
     ]
    }
   ],
   "source": [
    "df_be.loc['Mean'] = df_be.mean(axis=0)\n",
    "s = df_be.round(2).astype({'Shared': int, '(%)':int}).to_latex(float_format=utils.formatter)\n",
    "\n",
    "print(s)"
   ]
  },
  {
   "cell_type": "markdown",
   "metadata": {},
   "source": [
    "---"
   ]
  }
 ],
 "metadata": {
  "kernelspec": {
   "display_name": "Python 3",
   "language": "python",
   "name": "python3"
  },
  "language_info": {
   "codemirror_mode": {
    "name": "ipython",
    "version": 3
   },
   "file_extension": ".py",
   "mimetype": "text/x-python",
   "name": "python",
   "nbconvert_exporter": "python",
   "pygments_lexer": "ipython3",
   "version": "3.8.2"
  }
 },
 "nbformat": 4,
 "nbformat_minor": 2
}