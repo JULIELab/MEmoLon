{
 "cells": [
  {
   "cell_type": "markdown",
   "metadata": {},
   "source": [
    "# Overview of Gold Lexica\n",
    "\n",
    "This notebooks loads all datasets used in the gold evaluation, looks up their sizes and saves a csv table with the information to the disk. At the the end, the notebook produces a Latex-formatted version of the the Table."
   ]
  },
  {
   "cell_type": "code",
   "execution_count": 1,
   "metadata": {},
   "outputs": [],
   "source": [
    "import numpy as np\n",
    "import pandas as pd\n",
    "\n",
    "from memolon.src import utils,constants"
   ]
  },
  {
   "cell_type": "code",
   "execution_count": 2,
   "metadata": {},
   "outputs": [
    {
     "name": "stderr",
     "output_type": "stream",
     "text": [
      "/home/ruecker/miniconda3/envs/emotionlexica/lib/python3.8/site-packages/IPython/core/interactiveshell.py:3331: DtypeWarning: Columns (57) have mixed types.Specify dtype option on import or set low_memory=False.\n",
      "  exec(code_obj, self.user_global_ns, self.user_ns)\n"
     ]
    }
   ],
   "source": [
    "df = pd.DataFrame(columns=['id', 'variables', 'size', 'citation'])\n",
    "for key, value in utils.conditions.items():\n",
    "    try:\n",
    "        data = value['get']()\n",
    "        size = len(data)\n",
    "        variables = \"\".join([c[0] for c in data.columns])\n",
    "        citation = value['citation']\n",
    "    except KeyError:\n",
    "        print('Problem processing {}'.format(key))\n",
    "    df.loc[len(df)] = [key, variables, size, citation]\n",
    "df.to_csv(constants.GOLD_LEXICA_OVERVIEW, index=False)"
   ]
  },
  {
   "cell_type": "code",
   "execution_count": 3,
   "metadata": {},
   "outputs": [
    {
     "data": {
      "text/html": [
       "<div>\n",
       "<style scoped>\n",
       "    .dataframe tbody tr th:only-of-type {\n",
       "        vertical-align: middle;\n",
       "    }\n",
       "\n",
       "    .dataframe tbody tr th {\n",
       "        vertical-align: top;\n",
       "    }\n",
       "\n",
       "    .dataframe thead th {\n",
       "        text-align: right;\n",
       "    }\n",
       "</style>\n",
       "<table border=\"1\" class=\"dataframe\">\n",
       "  <thead>\n",
       "    <tr style=\"text-align: right;\">\n",
       "      <th></th>\n",
       "      <th>variables</th>\n",
       "      <th>size</th>\n",
       "      <th>citation</th>\n",
       "    </tr>\n",
       "    <tr>\n",
       "      <th>id</th>\n",
       "      <th></th>\n",
       "      <th></th>\n",
       "      <th></th>\n",
       "    </tr>\n",
       "  </thead>\n",
       "  <tbody>\n",
       "    <tr>\n",
       "      <th>en1</th>\n",
       "      <td>vad</td>\n",
       "      <td>1032</td>\n",
       "      <td>xanew</td>\n",
       "    </tr>\n",
       "    <tr>\n",
       "      <th>en2</th>\n",
       "      <td>vad</td>\n",
       "      <td>1034</td>\n",
       "      <td>bradley99</td>\n",
       "    </tr>\n",
       "    <tr>\n",
       "      <th>en3</th>\n",
       "      <td>jasfd</td>\n",
       "      <td>1034</td>\n",
       "      <td>stevenson07</td>\n",
       "    </tr>\n",
       "    <tr>\n",
       "      <th>es1</th>\n",
       "      <td>vad</td>\n",
       "      <td>1034</td>\n",
       "      <td>redondo07</td>\n",
       "    </tr>\n",
       "    <tr>\n",
       "      <th>es2</th>\n",
       "      <td>va</td>\n",
       "      <td>14031</td>\n",
       "      <td>Stadthagen16</td>\n",
       "    </tr>\n",
       "  </tbody>\n",
       "</table>\n",
       "</div>"
      ],
      "text/plain": [
       "    variables   size      citation\n",
       "id                                \n",
       "en1       vad   1032         xanew\n",
       "en2       vad   1034     bradley99\n",
       "en3     jasfd   1034   stevenson07\n",
       "es1       vad   1034     redondo07\n",
       "es2        va  14031  Stadthagen16"
      ]
     },
     "execution_count": 3,
     "metadata": {},
     "output_type": "execute_result"
    }
   ],
   "source": [
    "df = pd.read_csv(constants.GOLD_LEXICA_OVERVIEW, index_col=0)\n",
    "df.head()"
   ]
  },
  {
   "cell_type": "code",
   "execution_count": 4,
   "metadata": {},
   "outputs": [
    {
     "name": "stdout",
     "output_type": "stream",
     "text": [
      "\\begin{tabular}{llrl}\n",
      "\\toprule\n",
      "{} & variables &   size &         citation \\\\\n",
      "id  &           &        &                  \\\\\n",
      "\\midrule\n",
      "en1 &       vad &   1032 &            xanew \\\\\n",
      "en2 &       vad &   1034 &        bradley99 \\\\\n",
      "en3 &     jasfd &   1034 &      stevenson07 \\\\\n",
      "es1 &       vad &   1034 &        redondo07 \\\\\n",
      "es2 &        va &  14031 &     Stadthagen16 \\\\\n",
      "es3 &        va &    875 &        hiojosa16 \\\\\n",
      "es4 &     jasfd &    875 &      hinojosa 16 \\\\\n",
      "es5 &     jasfd &  10491 &     Stadthagen17 \\\\\n",
      "es6 &     jasfd &   2266 &            ferre \\\\\n",
      "de1 &       vad &   1003 &      Schmidtke14 \\\\\n",
      "de2 &        va &   2902 &             Vo09 \\\\\n",
      "de3 &        va &   1000 &         Kanske10 \\\\\n",
      "de4 &     jasfd &   1958 &  Briesemeister12 \\\\\n",
      "pl1 &       vad &   4905 &            Imbir \\\\\n",
      "pl2 &        va &   2902 &         Riegel15 \\\\\n",
      "pl3 &     jasfd &   2902 &          wierzba \\\\\n",
      "zh1 &        va &   2794 &             yu16 \\\\\n",
      "zh2 &        va &   1100 &            yao16 \\\\\n",
      "it  &       vad &   1121 &      montefinese \\\\\n",
      "pt  &       vad &   1034 &         soares12 \\\\\n",
      "nl  &        va &   4299 &          Moors13 \\\\\n",
      "id  &       vad &   1487 &         sianipar \\\\\n",
      "el  &       vad &   1034 &     palogiannidi \\\\\n",
      "tr1 &        va &   2029 &           Kapucu \\\\\n",
      "tr2 &     jasfd &   2029 &           Kapucu \\\\\n",
      "hr  &        va &   3022 &             Coso \\\\\n",
      "\\bottomrule\n",
      "\\end{tabular}\n",
      "\n"
     ]
    }
   ],
   "source": [
    "print(df.to_latex())"
   ]
  },
  {
   "cell_type": "markdown",
   "metadata": {},
   "source": [
    "---"
   ]
  }
 ],
 "metadata": {
  "kernelspec": {
   "display_name": "Python 3",
   "language": "python",
   "name": "python3"
  },
  "language_info": {
   "codemirror_mode": {
    "name": "ipython",
    "version": 3
   },
   "file_extension": ".py",
   "mimetype": "text/x-python",
   "name": "python",
   "nbconvert_exporter": "python",
   "pygments_lexer": "ipython3",
   "version": "3.8.2"
  }
 },
 "nbformat": 4,
 "nbformat_minor": 2
}